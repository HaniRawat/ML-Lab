{
  "nbformat": 4,
  "nbformat_minor": 0,
  "metadata": {
    "colab": {
      "provenance": [],
      "authorship_tag": "ABX9TyOPDHRHRhLOHpE/86MnbWKI",
      "include_colab_link": true
    },
    "kernelspec": {
      "name": "python3",
      "display_name": "Python 3"
    },
    "language_info": {
      "name": "python"
    }
  },
  "cells": [
    {
      "cell_type": "markdown",
      "metadata": {
        "id": "view-in-github",
        "colab_type": "text"
      },
      "source": [
        "<a href=\"https://colab.research.google.com/github/HaniRawat/ML-Lab/blob/main/ml7.ipynb\" target=\"_parent\"><img src=\"https://colab.research.google.com/assets/colab-badge.svg\" alt=\"Open In Colab\"/></a>"
      ]
    },
    {
      "cell_type": "markdown",
      "source": [
        "Principle Component Analysis on a given dataset, containing two feaatures, X having values 4, 8, 13, 7 and Y having values 11, 4, 5, 14"
      ],
      "metadata": {
        "id": "tLaxAxaxLcbD"
      }
    },
    {
      "cell_type": "code",
      "source": [
        "import numpy as np\n",
        "\n",
        "# Step 1: Define the dataset\n",
        "X = np.array([4, 8, 13, 7])\n",
        "Y = np.array([11, 4, 5, 14])"
      ],
      "metadata": {
        "id": "FcQmkJb5LvKP"
      },
      "execution_count": 9,
      "outputs": []
    },
    {
      "cell_type": "code",
      "source": [
        "# Step 2: Construct the data matrix\n",
        "data = np.vstack((X, Y)).T  # Shape (4,2)"
      ],
      "metadata": {
        "id": "fBKbYrGIMNSQ"
      },
      "execution_count": 10,
      "outputs": []
    },
    {
      "cell_type": "code",
      "source": [
        "# Step 3: Compute the mean of each feature\n",
        "mean_X = np.mean(X)\n",
        "mean_Y = np.mean(Y)\n",
        "mean_vector = np.array([mean_X, mean_Y])"
      ],
      "metadata": {
        "id": "4XxCH4noMNU1"
      },
      "execution_count": 11,
      "outputs": []
    },
    {
      "cell_type": "code",
      "source": [
        "# Step 4: Center the data (subtract mean)\n",
        "centered_data = data - mean_vector"
      ],
      "metadata": {
        "id": "y6nPeQhBMNXJ"
      },
      "execution_count": 12,
      "outputs": []
    },
    {
      "cell_type": "code",
      "source": [
        "# Step 5: Compute the covariance matrix\n",
        "cov_matrix = (centered_data.T @ centered_data) / (len(X) - 1)"
      ],
      "metadata": {
        "id": "LAO-YRDCMNaj"
      },
      "execution_count": 13,
      "outputs": []
    },
    {
      "cell_type": "code",
      "source": [
        "# Step 6: Compute the eigenvalues and eigenvectors\n",
        "eig_values, eig_vectors = np.linalg.eig(cov_matrix)"
      ],
      "metadata": {
        "id": "knpirxtuM9_u"
      },
      "execution_count": 14,
      "outputs": []
    },
    {
      "cell_type": "code",
      "source": [
        "# Step 7: Sort eigenvalues and eigenvectors\n",
        "sorted_indices = np.argsort(eig_values)[::-1]\n",
        "eig_values = eig_values[sorted_indices]\n",
        "eig_vectors = eig_vectors[:, sorted_indices]"
      ],
      "metadata": {
        "id": "wQbXtmpkM98R"
      },
      "execution_count": 15,
      "outputs": []
    },
    {
      "cell_type": "code",
      "source": [
        "# Step 8: Project data onto the principal components\n",
        "projected_data = centered_data @ eig_vectors"
      ],
      "metadata": {
        "id": "8V7KVDe_OmYY"
      },
      "execution_count": 16,
      "outputs": []
    },
    {
      "cell_type": "code",
      "source": [
        "# Display results\n",
        "print(\"Mean Vector:\", mean_vector)\n",
        "print(\"Covariance Matrix:\\n\", cov_matrix)\n",
        "print(\"Eigenvalues:\", eig_values)\n",
        "print(\"Eigenvectors:\\n\", eig_vectors)\n",
        "print(\"Projected Data:\\n\", projected_data)\n"
      ],
      "metadata": {
        "colab": {
          "base_uri": "https://localhost:8080/"
        },
        "id": "px1Mx_lNOmVA",
        "outputId": "f24803c7-25df-4a4b-cf23-f2c343d95449"
      },
      "execution_count": 17,
      "outputs": [
        {
          "output_type": "stream",
          "name": "stdout",
          "text": [
            "Mean Vector: [8.  8.5]\n",
            "Covariance Matrix:\n",
            " [[ 14. -11.]\n",
            " [-11.  23.]]\n",
            "Eigenvalues: [30.38486432  6.61513568]\n",
            "Eigenvectors:\n",
            " [[ 0.55738997 -0.83025082]\n",
            " [-0.83025082 -0.55738997]]\n",
            "Projected Data:\n",
            " [[-4.30518692  1.92752836]\n",
            " [ 3.73612869  2.50825486]\n",
            " [ 5.69282771 -2.20038921]\n",
            " [-5.12376947 -2.23539401]]\n"
          ]
        }
      ]
    }
  ]
}